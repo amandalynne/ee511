{
 "cells": [
  {
   "cell_type": "code",
   "execution_count": 1,
   "metadata": {
    "collapsed": true
   },
   "outputs": [],
   "source": [
    "from math import sqrt\n",
    "import matplotlib.pyplot as plt\n",
    "import numpy as np\n",
    "import pandas as pd\n",
    "\n",
    "from sklearn import linear_model\n",
    "from sklearn.metrics import mean_squared_error\n",
    "from sklearn.preprocessing import StandardScaler"
   ]
  },
  {
   "cell_type": "code",
   "execution_count": 2,
   "metadata": {
    "collapsed": true
   },
   "outputs": [],
   "source": [
    "# Columns by type of variable\n",
    "numerical_variables = ['Lot Area', 'Lot Frontage', 'Year Built',\n",
    "                       'Mas Vnr Area', 'BsmtFin SF 1', 'BsmtFin SF 2',\n",
    "                       'Bsmt Unf SF', 'Total Bsmt SF', '1st Flr SF',\n",
    "                       '2nd Flr SF', 'Low Qual Fin SF', 'Gr Liv Area',\n",
    "                       'Garage Area', 'Wood Deck SF', 'Open Porch SF', \n",
    "                       'Enclosed Porch', '3Ssn Porch', 'Screen Porch',\n",
    "                       'Pool Area']\n",
    "discrete_variables = ['MS SubClass', 'MS Zoning', 'Street',\n",
    "                      'Alley', 'Lot Shape', 'Land Contour',\n",
    "                      'Utilities', 'Lot Config', 'Land Slope',\n",
    "                      'Neighborhood', 'Condition 1', 'Condition 2',\n",
    "                      'Bldg Type', 'House Style', 'Overall Qual',\n",
    "                      'Overall Cond', 'Roof Style', 'Roof Matl',\n",
    "                      'Exterior 1st', 'Exterior 2nd', 'Mas Vnr Type',\n",
    "                      'Exter Qual', 'Exter Cond', 'Foundation', \n",
    "                      'Bsmt Qual', 'Bsmt Cond', 'Bsmt Exposure',\n",
    "                      'BsmtFin Type 1', 'Heating', 'Heating QC',\n",
    "                      'Central Air', 'Electrical', 'Bsmt Full Bath', \n",
    "                      'Bsmt Half Bath', 'Full Bath', 'Half Bath', \n",
    "                      'Bedroom AbvGr', 'Kitchen AbvGr', 'Kitchen Qual',\n",
    "                      'TotRms AbvGrd', 'Functional', 'Fireplaces',\n",
    "                      'Fireplace Qu', 'Garage Type', 'Garage Cars',\n",
    "                      'Garage Qual', 'Garage Cond', 'Paved Drive',\n",
    "                      'Pool QC', 'Fence', 'Sale Type', 'Sale Condition']\n",
    "\n",
    "# For convenience, the names of metadata column & the target variable column.\n",
    "meta_variables = ['Order', 'SalePrice']"
   ]
  },
  {
   "cell_type": "code",
   "execution_count": 3,
   "metadata": {
    "collapsed": true
   },
   "outputs": [],
   "source": [
    "# Read the housing data file as a tab-separated file\n",
    "# Interpret empty cells as NaN\n",
    "data = pd.read_csv('AmesHousing.txt', sep='\\t', keep_default_na=False, na_values=[\"\"])"
   ]
  },
  {
   "cell_type": "code",
   "execution_count": 4,
   "metadata": {
    "collapsed": true
   },
   "outputs": [],
   "source": [
    "# Replace NaNs with 0 for numerical data\n",
    "data[numerical_variables] = data[numerical_variables].fillna(value=0)"
   ]
  },
  {
   "cell_type": "code",
   "execution_count": 5,
   "metadata": {
    "collapsed": true
   },
   "outputs": [],
   "source": [
    "# Replace missing categorical feature values with \"NO DATA\"\n",
    "data[discrete_variables] = data[discrete_variables].fillna(value=\"NO DATA\")"
   ]
  },
  {
   "cell_type": "code",
   "execution_count": 6,
   "metadata": {
    "collapsed": true
   },
   "outputs": [],
   "source": [
    "# Only keep the attributes relevant to the homework (slice the dataframe)\n",
    "data = data[numerical_variables+discrete_variables+meta_variables]"
   ]
  },
  {
   "cell_type": "code",
   "execution_count": 7,
   "metadata": {
    "collapsed": true
   },
   "outputs": [],
   "source": [
    "# Splitting the data into train, test, validation\n",
    "validation = data.loc[data['Order'] % 5 ==3]\n",
    "test = data.loc[data['Order'] % 5 ==4]\n",
    "train = data.loc[(data['Order'] % 5 != 3) & (data['Order'] % 5 != 4)]"
   ]
  },
  {
   "cell_type": "code",
   "execution_count": 8,
   "metadata": {},
   "outputs": [
    {
     "data": {
      "text/plain": [
       "2930"
      ]
     },
     "execution_count": 8,
     "metadata": {},
     "output_type": "execute_result"
    }
   ],
   "source": [
    "len(validation) + len(test) + len(train)"
   ]
  },
  {
   "cell_type": "code",
   "execution_count": 9,
   "metadata": {
    "collapsed": true
   },
   "outputs": [],
   "source": [
    "# Question 4\n",
    "# One feature\n",
    "X = train['Gr Liv Area'].values.reshape(-1, 1)"
   ]
  },
  {
   "cell_type": "code",
   "execution_count": 10,
   "metadata": {
    "collapsed": true
   },
   "outputs": [],
   "source": [
    "# Target\n",
    "y = train['SalePrice'].values.reshape(-1, 1)"
   ]
  },
  {
   "cell_type": "code",
   "execution_count": 11,
   "metadata": {},
   "outputs": [
    {
     "data": {
      "text/plain": [
       "(1758, 1)"
      ]
     },
     "execution_count": 11,
     "metadata": {},
     "output_type": "execute_result"
    }
   ],
   "source": [
    "X.shape"
   ]
  },
  {
   "cell_type": "code",
   "execution_count": 12,
   "metadata": {
    "scrolled": true
   },
   "outputs": [
    {
     "data": {
      "text/plain": [
       "(1758, 1)"
      ]
     },
     "execution_count": 12,
     "metadata": {},
     "output_type": "execute_result"
    }
   ],
   "source": [
    "y.shape"
   ]
  },
  {
   "cell_type": "code",
   "execution_count": 13,
   "metadata": {
    "collapsed": true
   },
   "outputs": [],
   "source": [
    "# Question 4: one variable least squares linear regression model\n",
    "regr = linear_model.LinearRegression()\n",
    "regr.fit(X, y)\n",
    "\n",
    "y_pred = regr.predict(X)"
   ]
  },
  {
   "cell_type": "code",
   "execution_count": 14,
   "metadata": {},
   "outputs": [
    {
     "name": "stdout",
     "output_type": "stream",
     "text": [
      "Coefficients: \n",
      " [[ 112.41373299]]\n",
      "Intercept: \n",
      " [ 12662.05419117]\n"
     ]
    }
   ],
   "source": [
    "# Show the coefficients and intercept\n",
    "print('Coefficients: \\n', regr.coef_)\n",
    "print('Intercept: \\n', regr.intercept_)"
   ]
  },
  {
   "cell_type": "code",
   "execution_count": 15,
   "metadata": {},
   "outputs": [
    {
     "data": {
      "image/png": "[encoded data removed]",
      "text/plain": [
       "<matplotlib.figure.Figure at 0x1a0f191438>"
      ]
     },
     "metadata": {},
     "output_type": "display_data"
    }
   ],
   "source": [
    "# Plot the data.\n",
    "plt.scatter(X, y, color='black', s=1)\n",
    "plt.plot(X, y_pred, color='blue', linewidth=2)\n",
    "\n",
    "plt.suptitle('Ames Housing Prices ($) by Gr Liv Area (Sq Ft)')\n",
    "plt.xlabel('Sale Price')\n",
    "plt.ylabel('Gr Liv Area')\n",
    "\n",
    "plt.show()"
   ]
  },
  {
   "cell_type": "code",
   "execution_count": 16,
   "metadata": {},
   "outputs": [
    {
     "name": "stdout",
     "output_type": "stream",
     "text": [
      "56299.04582753065\n"
     ]
    }
   ],
   "source": [
    "# Apply model to validation and report RMSE\n",
    "validation_x = validation['Gr Liv Area'].values.reshape(-1, 1)\n",
    "validation_true = validation['SalePrice'].values.reshape(-1, 1)\n",
    "\n",
    "validation_pred = regr.predict(validation_x)\n",
    "rms = sqrt(mean_squared_error(validation_true, validation_pred))\n",
    "print(rms)"
   ]
  },
  {
   "cell_type": "code",
   "execution_count": 17,
   "metadata": {
    "collapsed": true
   },
   "outputs": [],
   "source": [
    "# Question 5\n",
    "# One hot encoding for categorical features\n",
    "one_hot = pd.get_dummies(data, columns=discrete_variables)"
   ]
  },
  {
   "cell_type": "code",
   "execution_count": 18,
   "metadata": {
    "collapsed": true
   },
   "outputs": [],
   "source": [
    "# Re-split the data using the one-hot dataframe\n",
    "# Remove the Order and SalePrice columns (irrelevant / cheating)\n",
    "# 'ohe' = one-hot encoded\n",
    "ohe_validation = (one_hot.loc[data['Order'] % 5 ==3]).drop(['Order', 'SalePrice'], axis=1)\n",
    "ohe_test = (one_hot.loc[data['Order'] % 5 ==4]).drop(['Order', 'SalePrice'], axis=1)\n",
    "ohe_train = (one_hot.loc[(data['Order'] % 5 != 3) & (data['Order'] % 5 != 4)]).drop(['Order', 'SalePrice'], axis=1)"
   ]
  },
  {
   "cell_type": "code",
   "execution_count": 19,
   "metadata": {},
   "outputs": [
    {
     "name": "stdout",
     "output_type": "stream",
     "text": [
      "26726.018859894928\n"
     ]
    }
   ],
   "source": [
    "# Question 5: all features linear regression model\n",
    "regr = linear_model.LinearRegression()\n",
    "regr.fit(ohe_train, y)\n",
    "\n",
    "y_pred = regr.predict(ohe_validation)\n",
    "rms = sqrt(mean_squared_error(validation_true, y_pred))\n",
    "print(rms)"
   ]
  },
  {
   "cell_type": "code",
   "execution_count": 20,
   "metadata": {},
   "outputs": [
    {
     "data": {
      "text/plain": [
       "StandardScaler(copy=True, with_mean=True, with_std=True)"
      ]
     },
     "execution_count": 20,
     "metadata": {},
     "output_type": "execute_result"
    }
   ],
   "source": [
    "# Question 6\n",
    "# Normalize the data: subtract mean and divide by stdev. based on training data\n",
    "scaler = StandardScaler()\n",
    "scaler.fit(ohe_train)"
   ]
  },
  {
   "cell_type": "code",
   "execution_count": 21,
   "metadata": {},
   "outputs": [
    {
     "name": "stdout",
     "output_type": "stream",
     "text": [
      "Alpha: 50\n",
      "RMSE 18622.332824301036\n",
      "Number of non-zero coefficients: 270\n",
      "Alpha: 100\n",
      "RMSE 18755.310445419156\n",
      "Number of non-zero coefficients: 254\n",
      "Alpha: 150\n",
      "RMSE 18901.8215882536\n",
      "Number of non-zero coefficients: 228\n",
      "Alpha: 200\n",
      "RMSE 19035.91659867003\n",
      "Number of non-zero coefficients: 208\n",
      "Alpha: 250\n",
      "RMSE 19158.61009594549\n",
      "Number of non-zero coefficients: 192\n",
      "Alpha: 300\n",
      "RMSE 19285.302433850913\n",
      "Number of non-zero coefficients: 174\n",
      "Alpha: 350\n",
      "RMSE 19410.188918116794\n",
      "Number of non-zero coefficients: 163\n",
      "Alpha: 400\n",
      "RMSE 19530.693559525032\n",
      "Number of non-zero coefficients: 158\n",
      "Alpha: 450\n",
      "RMSE 19657.886235065733\n",
      "Number of non-zero coefficients: 151\n",
      "Alpha: 500\n",
      "RMSE 19781.766634085954\n",
      "Number of non-zero coefficients: 146\n",
      "Alpha: 50\n",
      "RMSE 25714.380543643092\n",
      "Number of non-zero coefficients: 270\n",
      "Alpha: 100\n",
      "RMSE 25221.371228807875\n",
      "Number of non-zero coefficients: 254\n",
      "Alpha: 150\n",
      "RMSE 24891.22083331736\n",
      "Number of non-zero coefficients: 228\n",
      "Alpha: 200\n",
      "RMSE 24637.71870663782\n",
      "Number of non-zero coefficients: 208\n",
      "Alpha: 250\n",
      "RMSE 24447.332872701263\n",
      "Number of non-zero coefficients: 192\n",
      "Alpha: 300\n",
      "RMSE 24325.341959901565\n",
      "Number of non-zero coefficients: 174\n",
      "Alpha: 350\n",
      "RMSE 24246.406542430643\n",
      "Number of non-zero coefficients: 163\n",
      "Alpha: 400\n",
      "RMSE 24207.614338580755\n",
      "Number of non-zero coefficients: 158\n",
      "Alpha: 450\n",
      "RMSE 24191.666969563124\n",
      "Number of non-zero coefficients: 151\n",
      "Alpha: 500\n",
      "RMSE 24196.848581013455\n",
      "Number of non-zero coefficients: 146\n"
     ]
    },
    {
     "data": {
      "image/png": "[encoded data removed]",
      "text/plain": [
       "<matplotlib.figure.Figure at 0x1a184f3b70>"
      ]
     },
     "metadata": {},
     "output_type": "display_data"
    }
   ],
   "source": [
    "# Question 6: Lasso\n",
    "train_nonzeros = []\n",
    "\n",
    "# Lasso on train\n",
    "for alpha in range(50,550,50):\n",
    "    lasso = linear_model.Lasso(alpha=alpha)\n",
    "    scaled = scaler.transform(ohe_train)\n",
    "    lasso.fit(scaled, y)\n",
    "    train_pred = lasso.predict(scaled)\n",
    "    rms = sqrt(mean_squared_error(y, train_pred))\n",
    "    print(\"Alpha: {0}\".format(alpha))\n",
    "    print(\"RMSE {0}\".format(rms))\n",
    "    print(\"Number of non-zero coefficients: {0}\".format(np.count_nonzero(lasso.coef_)))\n",
    "    train_nonzeros.append(np.count_nonzero(lasso.coef_))\n",
    "    \n",
    "# plt.show()\n",
    "\n",
    "v_nonzeros = []\n",
    "\n",
    "# Lasso on validation\n",
    "for alpha in range(50,550,50):\n",
    "    lasso = linear_model.Lasso(alpha=alpha)\n",
    "    scaled = scaler.transform(ohe_train)\n",
    "    lasso.fit(scaled, y)\n",
    "    scaled_v = scaler.transform(ohe_validation)\n",
    "    y_pred = lasso.predict(scaled_v)\n",
    "    rms = sqrt(mean_squared_error(validation_true, y_pred))\n",
    "    print(\"Alpha: {0}\".format(alpha))\n",
    "    print(\"RMSE {0}\".format(rms))\n",
    "    print(\"Number of non-zero coefficients: {0}\".format(np.count_nonzero(lasso.coef_)))\n",
    "    v_nonzeros.append(np.count_nonzero(lasso.coef_))\n",
    "    \n",
    "# The lines are the same for both...\n",
    "plt.plot(np.asarray(range(50,550,50)), np.asarray(train_nonzeros))\n",
    "plt.plot(np.asarray(range(50,550,50)), np.asarray(v_nonzeros))\n",
    "plt.xlabel('Alpha')\n",
    "plt.ylabel('Number of nonzero coefficients')\n",
    "\n",
    "plt.show()"
   ]
  },
  {
   "cell_type": "code",
   "execution_count": 22,
   "metadata": {
    "collapsed": true
   },
   "outputs": [],
   "source": [
    "# Question 7: on test data\n",
    "test_true = test['SalePrice'].values.reshape(-1, 1)"
   ]
  },
  {
   "cell_type": "code",
   "execution_count": 23,
   "metadata": {},
   "outputs": [
    {
     "name": "stdout",
     "output_type": "stream",
     "text": [
      "55457.72481513969\n"
     ]
    }
   ],
   "source": [
    "# single var\n",
    "regr = linear_model.LinearRegression()\n",
    "regr.fit(X, y)\n",
    "test_x = test['Gr Liv Area'].values.reshape(-1, 1)\n",
    "test_pred = regr.predict(test_x)\n",
    "rms = sqrt(mean_squared_error(test_true, test_pred))\n",
    "print(rms)"
   ]
  },
  {
   "cell_type": "code",
   "execution_count": 24,
   "metadata": {},
   "outputs": [
    {
     "name": "stdout",
     "output_type": "stream",
     "text": [
      "36041.927950698075\n"
     ]
    }
   ],
   "source": [
    "# all var\n",
    "regr = linear_model.LinearRegression()\n",
    "regr.fit(ohe_train, y)\n",
    "\n",
    "test_pred = regr.predict(ohe_test)\n",
    "rms = sqrt(mean_squared_error(test_true, test_pred))\n",
    "print(rms)"
   ]
  },
  {
   "cell_type": "code",
   "execution_count": 25,
   "metadata": {},
   "outputs": [
    {
     "name": "stdout",
     "output_type": "stream",
     "text": [
      "33983.7578689102\n"
     ]
    }
   ],
   "source": [
    "# regularized\n",
    "lasso = linear_model.Lasso(alpha=500)\n",
    "scaled = scaler.transform(ohe_train)\n",
    "lasso.fit(scaled, y)\n",
    "scaled_t = scaler.transform(ohe_test)\n",
    "y_pred = lasso.predict(scaled_t)\n",
    "rms = sqrt(mean_squared_error(test_true, y_pred))\n",
    "print(rms)"
   ]
  },
  {
   "cell_type": "code",
   "execution_count": 26,
   "metadata": {},
   "outputs": [
    {
     "name": "stdout",
     "output_type": "stream",
     "text": [
      "34024.215752797405\n"
     ]
    }
   ],
   "source": [
    "# regularized\n",
    "lasso = linear_model.Lasso(alpha=450)\n",
    "scaled = scaler.transform(ohe_train)\n",
    "lasso.fit(scaled, y)\n",
    "scaled_t = scaler.transform(ohe_test)\n",
    "y_pred = lasso.predict(scaled_t)\n",
    "rms = sqrt(mean_squared_error(test_true, y_pred))\n",
    "print(rms)"
   ]
  }
 ],
 "metadata": {
  "kernelspec": {
   "display_name": "Python 3",
   "language": "python",
   "name": "python3"
  },
  "language_info": {
   "codemirror_mode": {
    "name": "ipython",
    "version": 3
   },
   "file_extension": ".py",
   "mimetype": "text/x-python",
   "name": "python",
   "nbconvert_exporter": "python",
   "pygments_lexer": "ipython3",
   "version": "3.6.2"
  }
 },
 "nbformat": 4,
 "nbformat_minor": 2
}
